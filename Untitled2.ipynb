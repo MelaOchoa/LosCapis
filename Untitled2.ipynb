{
  "nbformat": 4,
  "nbformat_minor": 0,
  "metadata": {
    "colab": {
      "provenance": [],
      "authorship_tag": "ABX9TyOKONSkPQCejsP9aqhIG5SG",
      "include_colab_link": true
    },
    "kernelspec": {
      "name": "python3",
      "display_name": "Python 3"
    },
    "language_info": {
      "name": "python"
    }
  },
  "cells": [
    {
      "cell_type": "markdown",
      "metadata": {
        "id": "view-in-github",
        "colab_type": "text"
      },
      "source": [
        "<a href=\"https://colab.research.google.com/github/MelaOchoa/LosCapis/blob/Perceptron/Untitled2.ipynb\" target=\"_parent\"><img src=\"https://colab.research.google.com/assets/colab-badge.svg\" alt=\"Open In Colab\"/></a>"
      ]
    },
    {
      "cell_type": "code",
      "execution_count": 2,
      "metadata": {
        "colab": {
          "base_uri": "https://localhost:8080/"
        },
        "id": "gg7-Mw_I9CuU",
        "outputId": "f24a32ea-9d4b-44b4-c524-9a8e3269d2e9"
      },
      "outputs": [
        {
          "output_type": "stream",
          "name": "stdout",
          "text": [
            "Epoch 1/15, Error: 3.3951179215286653\n",
            "Epoch 2/15, Error: 2.4715830982188214\n",
            "Epoch 3/15, Error: 1.9715755591648154\n",
            "Epoch 4/15, Error: 1.6814372155621444\n",
            "Epoch 5/15, Error: 1.497513187163904\n",
            "Epoch 6/15, Error: 1.3692826072927042\n",
            "Epoch 7/15, Error: 1.271913791741968\n",
            "Epoch 8/15, Error: 1.1930169532096562\n",
            "Epoch 9/15, Error: 1.150936875529605\n",
            "Epoch 10/15, Error: 1.147575059251798\n",
            "Epoch 11/15, Error: 1.1444155313544928\n",
            "Epoch 12/15, Error: 1.1414969724854522\n",
            "Epoch 13/15, Error: 1.138824183831683\n",
            "Epoch 14/15, Error: 1.136386997183911\n",
            "Epoch 15/15, Error: 1.1341692593747574\n",
            "Predicciones OR:\n",
            "Entrada: [0 0], Salida: 0.4600372741611271\n",
            "Entrada: [0 1], Salida: 0.8956390932666312\n",
            "Entrada: [1 0], Salida: 0.6754030080268931\n",
            "Entrada: [1 1], Salida: 1.1110048271323973\n"
          ]
        }
      ],
      "source": [
        "import numpy as np\n",
        "\n",
        "class Perceptron:\n",
        "    def __init__(self, input_size, activation_function, learning_rate=0.01, epochs=20):\n",
        "        self.weights = np.random.randn(input_size)\n",
        "        self.bias = np.random.randn()\n",
        "        self.learning_rate = learning_rate\n",
        "        self.epochs = epochs\n",
        "        self.activation_function = activation_function\n",
        "\n",
        "    def activation(self, x):\n",
        "        if self.activation_function == \"lineal\":\n",
        "            return x\n",
        "\n",
        "    def predict(self, X):\n",
        "        linear_output = np.dot(X, self.weights) + self.bias\n",
        "        return self.activation(linear_output)\n",
        "\n",
        "    def train(self, X, y):\n",
        "        for epoch in range(self.epochs):\n",
        "            total_error = 0\n",
        "            for i in range(len(X)):\n",
        "                prediction = self.predict(X[i])\n",
        "                error = y[i] - prediction\n",
        "                self.weights += self.learning_rate * error * X[i]\n",
        "                self.bias += self.learning_rate * error\n",
        "                total_error += abs(error)\n",
        "            print(f\"Epoch {epoch+1}/{self.epochs}, Error: {total_error}\")\n",
        "\n",
        "# Prueba con el caso AND\n",
        "X_and = np.array([[0, 0], [0, 1], [1, 0], [1, 1]])\n",
        "y_and = np.array([0, 1, 1, 1])\n",
        "\n",
        "perceptron_and = Perceptron(input_size=2, activation_function=\"lineal\", learning_rate=0.1, epochs=15)\n",
        "perceptron_and.train(X_and, y_and)\n",
        "\n",
        "print(\"Predicciones OR:\")\n",
        "for x in X_and:\n",
        "    print(f\"Entrada: {x}, Salida: {perceptron_and.predict(x)}\")\n",
        "\n"
      ]
    }
  ]
}